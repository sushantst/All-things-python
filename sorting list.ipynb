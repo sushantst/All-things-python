{
 "cells": [
  {
   "cell_type": "code",
   "execution_count": 7,
   "id": "781f8f64",
   "metadata": {},
   "outputs": [
    {
     "name": "stdout",
     "output_type": "stream",
     "text": [
      "1593725294745283698723084038939590\n",
      "['0', '0', '0', '1', '2', '2', '2', '2', '3', '3', '3', '3', '3', '4', '4', '4', '5', '5', '5', '5', '6', '7', '7', '7', '8', '8', '8', '8', '9', '9', '9', '9', '9', '9']\n"
     ]
    }
   ],
   "source": [
    "lst=str(input())\n",
    "sort_lst=sorted(lst)\n",
    "print(sort_lst)"
   ]
  },
  {
   "cell_type": "code",
   "execution_count": null,
   "id": "74a33803",
   "metadata": {},
   "outputs": [],
   "source": []
  },
  {
   "cell_type": "code",
   "execution_count": null,
   "id": "ee17c89a",
   "metadata": {},
   "outputs": [],
   "source": []
  }
 ],
 "metadata": {
  "kernelspec": {
   "display_name": "Python 3 (ipykernel)",
   "language": "python",
   "name": "python3"
  },
  "language_info": {
   "codemirror_mode": {
    "name": "ipython",
    "version": 3
   },
   "file_extension": ".py",
   "mimetype": "text/x-python",
   "name": "python",
   "nbconvert_exporter": "python",
   "pygments_lexer": "ipython3",
   "version": "3.9.12"
  }
 },
 "nbformat": 4,
 "nbformat_minor": 5
}
