{
 "cells": [
  {
   "cell_type": "code",
   "execution_count": 8,
   "id": "3a83d620",
   "metadata": {},
   "outputs": [
    {
     "name": "stdout",
     "output_type": "stream",
     "text": [
      "Defaulting to user installation because normal site-packages is not writeable\n",
      "Requirement already satisfied: pyfiglet in c:\\users\\sushant\\appdata\\roaming\\python\\python39\\site-packages (0.8.post1)\n",
      "Note: you may need to restart the kernel to use updated packages.\n"
     ]
    }
   ],
   "source": [
    "pip install pyfiglet"
   ]
  },
  {
   "cell_type": "code",
   "execution_count": 7,
   "id": "eb4d3a3a",
   "metadata": {},
   "outputs": [
    {
     "name": "stdout",
     "output_type": "stream",
     "text": [
      "               _                 _   \n",
      " ___ _   _ ___| |__   __ _ _ __ | |_ \n",
      "/ __| | | / __| '_ \\ / _` | '_ \\| __|\n",
      "\\__ \\ |_| \\__ \\ | | | (_| | | | | |_ \n",
      "|___/\\__,_|___/_| |_|\\__,_|_| |_|\\__|\n",
      "                                     \n",
      "\n"
     ]
    }
   ],
   "source": [
    "import pyfiglet\n",
    "font = pyfiglet.figlet_format(\"sushant\")\n",
    "print(font)"
   ]
  },
  {
   "cell_type": "code",
   "execution_count": null,
   "id": "2a970488",
   "metadata": {},
   "outputs": [],
   "source": []
  }
 ],
 "metadata": {
  "kernelspec": {
   "display_name": "Python 3 (ipykernel)",
   "language": "python",
   "name": "python3"
  },
  "language_info": {
   "codemirror_mode": {
    "name": "ipython",
    "version": 3
   },
   "file_extension": ".py",
   "mimetype": "text/x-python",
   "name": "python",
   "nbconvert_exporter": "python",
   "pygments_lexer": "ipython3",
   "version": "3.9.12"
  }
 },
 "nbformat": 4,
 "nbformat_minor": 5
}
