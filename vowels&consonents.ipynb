{
 "cells": [
  {
   "cell_type": "markdown",
   "id": "7beba833",
   "metadata": {},
   "source": [
    "# check a vowel using user input "
   ]
  },
  {
   "cell_type": "code",
   "execution_count": null,
   "id": "7a72643a",
   "metadata": {},
   "outputs": [],
   "source": [
    "sushant=str(input('entre an alphabet :'))\n",
    "if sushant in('a','e','i','o','u'):\n",
    "        print(\"yes it is\") \n",
    "    \n",
    "\n",
    "        \n",
    "else:\n",
    "        print(\"No it's not\")"
   ]
  }
 ],
 "metadata": {
  "kernelspec": {
   "display_name": "Python 3 (ipykernel)",
   "language": "python",
   "name": "python3"
  },
  "language_info": {
   "codemirror_mode": {
    "name": "ipython",
    "version": 3
   },
   "file_extension": ".py",
   "mimetype": "text/x-python",
   "name": "python",
   "nbconvert_exporter": "python",
   "pygments_lexer": "ipython3",
   "version": "3.9.12"
  }
 },
 "nbformat": 4,
 "nbformat_minor": 5
}
