{
 "cells": [
  {
   "cell_type": "markdown",
   "id": "214cd217",
   "metadata": {},
   "source": [
    "#odd/even programme"
   ]
  },
  {
   "cell_type": "code",
   "execution_count": null,
   "id": "300d0e0f",
   "metadata": {},
   "outputs": [],
   "source": [
    "x=int(input(\"Enter the number you want to check\"))\n",
    "if x%2==0:\n",
    "    print(\"It's a even number\\nThanks for using our programe\")\n",
    "    \n",
    "else:\n",
    "    print(\"it's an odd number\\nThanks for using our programe\")"
   ]
  }
 ],
 "metadata": {
  "kernelspec": {
   "display_name": "Python 3 (ipykernel)",
   "language": "python",
   "name": "python3"
  },
  "language_info": {
   "codemirror_mode": {
    "name": "ipython",
    "version": 3
   },
   "file_extension": ".py",
   "mimetype": "text/x-python",
   "name": "python",
   "nbconvert_exporter": "python",
   "pygments_lexer": "ipython3",
   "version": "3.9.12"
  }
 },
 "nbformat": 4,
 "nbformat_minor": 5
}
