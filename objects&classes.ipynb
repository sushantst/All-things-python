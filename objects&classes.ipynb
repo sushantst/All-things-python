{
 "cells": [
  {
   "cell_type": "code",
   "execution_count": 15,
   "id": "231db7ab",
   "metadata": {},
   "outputs": [
    {
     "name": "stdout",
     "output_type": "stream",
     "text": [
      "harneet rana , sunny anand\n",
      "supra dixit , rinki gupta\n"
     ]
    }
   ],
   "source": [
    "class ece:  #parent class\n",
    "    def __init__(self,name):\n",
    "        self.name=name\n",
    "        \n",
    "        \n",
    "class elect(ece):    #child class\n",
    "    def faculty(self):\n",
    "        print(\"sunny anand\")\n",
    "        \n",
    "class sp(ece):  #child class\n",
    "    def faculty(self):\n",
    "        print(\"rinki gupta\")\n",
    "        \n",
    "obv=[elect('harneet rana'),sp(\"supra dixit\")]   \n",
    "for i in obv:\n",
    "    print(i.name,\",\",end=\" \")\n",
    "    i.faculty()"
   ]
  },
  {
   "cell_type": "code",
   "execution_count": 16,
   "id": "5fa74ee8",
   "metadata": {},
   "outputs": [
    {
     "name": "stdout",
     "output_type": "stream",
     "text": [
      "sushant thakur\n"
     ]
    }
   ],
   "source": [
    "class Person:\n",
    "  def __init__(self, fname, lname):\n" #contructor,
    "    self.firstname = fname\n",
    "    self.lastname = lname\n",
    "\n",
    "  def printname(self):\n"  #method,
    "    print(self.firstname, self.lastname)\n",
    "\n",
    "\n",
    "\n",
    "x = Person(\"sushant\", \"thakur\")\n",
    "x.printname()\n"
   ]
  },
  {
   "cell_type": "code",
   "execution_count": null,
   "id": "84a22ae1",
   "metadata": {},
   "outputs": [],
   "source": []
  }
 ],
 "metadata": {
  "kernelspec": {
   "display_name": "Python 3 (ipykernel)",
   "language": "python",
   "name": "python3"
  },
  "language_info": {
   "codemirror_mode": {
    "name": "ipython",
    "version": 3
   },
   "file_extension": ".py",
   "mimetype": "text/x-python",
   "name": "python",
   "nbconvert_exporter": "python",
   "pygments_lexer": "ipython3",
   "version": "3.9.12"
  }
 },
 "nbformat": 4,
 "nbformat_minor": 5
}
